{
 "cells": [
  {
   "cell_type": "markdown",
   "metadata": {},
   "source": [
    "## Lab 0 - Jupyter Notebook (demonstration)"
   ]
  },
  {
   "cell_type": "markdown",
   "metadata": {},
   "source": [
    "Why are we using Jupyter notebook? See here: https://www.nature.com/articles/d41586-018-07196-1\n",
    "\n",
    "Link to the Jupyter notebook documentation: https://jupyter-notebook.readthedocs.io/en/stable/ This site has everything you might want to know about getting started with Jupyter notebook.\n",
    "\n",
    "\n",
    "\n",
    "Import our required packages:\n",
    "* `pandas`: for data analysis\n",
    "* `matplotlib.pyplot`: for visualization\n",
    "\n"
   ]
  },
  {
   "cell_type": "code",
   "execution_count": 3,
   "metadata": {},
   "outputs": [],
   "source": [
    "import pandas as pd \n",
    "import matplotlib.pyplot as plt\n"
   ]
  },
  {
   "cell_type": "markdown",
   "metadata": {},
   "source": [
    "Read in data using the pandas function `read_csv`."
   ]
  },
  {
   "cell_type": "code",
   "execution_count": 4,
   "metadata": {},
   "outputs": [],
   "source": [
    "df = pd.read_csv('data-majors.csv')"
   ]
  },
  {
   "cell_type": "markdown",
   "metadata": {},
   "source": [
    "Display the content of the data frame (i.e., a table)."
   ]
  },
  {
   "cell_type": "code",
   "execution_count": 5,
   "metadata": {
    "scrolled": true
   },
   "outputs": [
    {
     "data": {
      "text/html": [
       "<div>\n",
       "<style scoped>\n",
       "    .dataframe tbody tr th:only-of-type {\n",
       "        vertical-align: middle;\n",
       "    }\n",
       "\n",
       "    .dataframe tbody tr th {\n",
       "        vertical-align: top;\n",
       "    }\n",
       "\n",
       "    .dataframe thead th {\n",
       "        text-align: right;\n",
       "    }\n",
       "</style>\n",
       "<table border=\"1\" class=\"dataframe\">\n",
       "  <thead>\n",
       "    <tr style=\"text-align: right;\">\n",
       "      <th></th>\n",
       "      <th>Fall 2018</th>\n",
       "      <th>Fall 2019</th>\n",
       "      <th>Fall 2020</th>\n",
       "      <th>Fall 2021</th>\n",
       "    </tr>\n",
       "  </thead>\n",
       "  <tbody>\n",
       "    <tr>\n",
       "      <th>0</th>\n",
       "      <td>CogSci</td>\n",
       "      <td>CS</td>\n",
       "      <td>CogSci + Math</td>\n",
       "      <td>NaN</td>\n",
       "    </tr>\n",
       "    <tr>\n",
       "      <th>1</th>\n",
       "      <td>CS</td>\n",
       "      <td>Stats + CS</td>\n",
       "      <td>CogSci + Math + CS</td>\n",
       "      <td>NaN</td>\n",
       "    </tr>\n",
       "    <tr>\n",
       "      <th>2</th>\n",
       "      <td>CogSci + CS</td>\n",
       "      <td>CS + CogSci</td>\n",
       "      <td>Stats + CS</td>\n",
       "      <td>NaN</td>\n",
       "    </tr>\n",
       "    <tr>\n",
       "      <th>3</th>\n",
       "      <td>Psychology</td>\n",
       "      <td>Neuroscience + CogSci</td>\n",
       "      <td>CogSci + Stats + CS</td>\n",
       "      <td>NaN</td>\n",
       "    </tr>\n",
       "    <tr>\n",
       "      <th>4</th>\n",
       "      <td>Biology</td>\n",
       "      <td>CS + CogSci</td>\n",
       "      <td>CogSci + Neuro</td>\n",
       "      <td>NaN</td>\n",
       "    </tr>\n",
       "    <tr>\n",
       "      <th>5</th>\n",
       "      <td>Neuroscience</td>\n",
       "      <td>CS + CogSci</td>\n",
       "      <td>CogSci + Math + Stats</td>\n",
       "      <td>NaN</td>\n",
       "    </tr>\n",
       "    <tr>\n",
       "      <th>6</th>\n",
       "      <td>CogSci + CS</td>\n",
       "      <td>Linguistics + CogSci</td>\n",
       "      <td>CogSci + Philosophy</td>\n",
       "      <td>NaN</td>\n",
       "    </tr>\n",
       "    <tr>\n",
       "      <th>7</th>\n",
       "      <td>CS</td>\n",
       "      <td>Neuroscience + CogSci</td>\n",
       "      <td>CogSci + Stats</td>\n",
       "      <td>NaN</td>\n",
       "    </tr>\n",
       "    <tr>\n",
       "      <th>8</th>\n",
       "      <td>CS</td>\n",
       "      <td>CS + CogSci</td>\n",
       "      <td>CogSci + CS</td>\n",
       "      <td>NaN</td>\n",
       "    </tr>\n",
       "    <tr>\n",
       "      <th>9</th>\n",
       "      <td>Psychology</td>\n",
       "      <td>Psych + CogSci</td>\n",
       "      <td>CogSci + Psych</td>\n",
       "      <td>NaN</td>\n",
       "    </tr>\n",
       "    <tr>\n",
       "      <th>10</th>\n",
       "      <td>Philosophy</td>\n",
       "      <td>Psych</td>\n",
       "      <td>CogSci + CS</td>\n",
       "      <td>NaN</td>\n",
       "    </tr>\n",
       "    <tr>\n",
       "      <th>11</th>\n",
       "      <td>Linguistics</td>\n",
       "      <td>CogSci + Linguistics</td>\n",
       "      <td>CogSci</td>\n",
       "      <td>NaN</td>\n",
       "    </tr>\n",
       "    <tr>\n",
       "      <th>12</th>\n",
       "      <td>NaN</td>\n",
       "      <td>CogSci</td>\n",
       "      <td>CogSci + Film</td>\n",
       "      <td>NaN</td>\n",
       "    </tr>\n",
       "    <tr>\n",
       "      <th>13</th>\n",
       "      <td>NaN</td>\n",
       "      <td>Psych + CogSci</td>\n",
       "      <td>CogSci + Stats</td>\n",
       "      <td>NaN</td>\n",
       "    </tr>\n",
       "    <tr>\n",
       "      <th>14</th>\n",
       "      <td>NaN</td>\n",
       "      <td>Psych + CogSci</td>\n",
       "      <td>CogSci + Psych</td>\n",
       "      <td>NaN</td>\n",
       "    </tr>\n",
       "    <tr>\n",
       "      <th>15</th>\n",
       "      <td>NaN</td>\n",
       "      <td>CogSci</td>\n",
       "      <td>CogSci + Stats</td>\n",
       "      <td>NaN</td>\n",
       "    </tr>\n",
       "    <tr>\n",
       "      <th>16</th>\n",
       "      <td>NaN</td>\n",
       "      <td>Psych + CogSci</td>\n",
       "      <td>CogSci + Stats</td>\n",
       "      <td>NaN</td>\n",
       "    </tr>\n",
       "    <tr>\n",
       "      <th>17</th>\n",
       "      <td>NaN</td>\n",
       "      <td>CS + CogSci</td>\n",
       "      <td>CogSci + CS</td>\n",
       "      <td>NaN</td>\n",
       "    </tr>\n",
       "    <tr>\n",
       "      <th>18</th>\n",
       "      <td>NaN</td>\n",
       "      <td>CS + CogSci</td>\n",
       "      <td>CogSci + CS</td>\n",
       "      <td>NaN</td>\n",
       "    </tr>\n",
       "    <tr>\n",
       "      <th>19</th>\n",
       "      <td>NaN</td>\n",
       "      <td>CogSci</td>\n",
       "      <td>CogSci + Psych</td>\n",
       "      <td>NaN</td>\n",
       "    </tr>\n",
       "    <tr>\n",
       "      <th>20</th>\n",
       "      <td>NaN</td>\n",
       "      <td>CS + CogSci</td>\n",
       "      <td>CogSci + Stats</td>\n",
       "      <td>NaN</td>\n",
       "    </tr>\n",
       "    <tr>\n",
       "      <th>21</th>\n",
       "      <td>NaN</td>\n",
       "      <td>Engineering</td>\n",
       "      <td>CogSci + Lin + Philosophy</td>\n",
       "      <td>NaN</td>\n",
       "    </tr>\n",
       "    <tr>\n",
       "      <th>22</th>\n",
       "      <td>NaN</td>\n",
       "      <td>CogSci + Biological Physics</td>\n",
       "      <td>CogSci + Philosophy</td>\n",
       "      <td>NaN</td>\n",
       "    </tr>\n",
       "    <tr>\n",
       "      <th>23</th>\n",
       "      <td>NaN</td>\n",
       "      <td>CogSci</td>\n",
       "      <td>CogSci + Stats + CS</td>\n",
       "      <td>NaN</td>\n",
       "    </tr>\n",
       "    <tr>\n",
       "      <th>24</th>\n",
       "      <td>NaN</td>\n",
       "      <td>CS + CogSci</td>\n",
       "      <td>CogSci</td>\n",
       "      <td>NaN</td>\n",
       "    </tr>\n",
       "    <tr>\n",
       "      <th>25</th>\n",
       "      <td>NaN</td>\n",
       "      <td>Stats + CogSci</td>\n",
       "      <td>CogSci + Math + Stats</td>\n",
       "      <td>NaN</td>\n",
       "    </tr>\n",
       "    <tr>\n",
       "      <th>26</th>\n",
       "      <td>NaN</td>\n",
       "      <td>CogSci + Genetics</td>\n",
       "      <td>CogSci + Stats + CS</td>\n",
       "      <td>NaN</td>\n",
       "    </tr>\n",
       "    <tr>\n",
       "      <th>27</th>\n",
       "      <td>NaN</td>\n",
       "      <td>CS + CogSci</td>\n",
       "      <td>CogSci + Psych + History</td>\n",
       "      <td>NaN</td>\n",
       "    </tr>\n",
       "    <tr>\n",
       "      <th>28</th>\n",
       "      <td>NaN</td>\n",
       "      <td>CogSci</td>\n",
       "      <td>CogSci + Neuro</td>\n",
       "      <td>NaN</td>\n",
       "    </tr>\n",
       "    <tr>\n",
       "      <th>29</th>\n",
       "      <td>NaN</td>\n",
       "      <td>Neuroscience + CogSci</td>\n",
       "      <td>CogSci + Stats + CS</td>\n",
       "      <td>NaN</td>\n",
       "    </tr>\n",
       "    <tr>\n",
       "      <th>30</th>\n",
       "      <td>NaN</td>\n",
       "      <td>CogSci</td>\n",
       "      <td>CogSci + Psych</td>\n",
       "      <td>NaN</td>\n",
       "    </tr>\n",
       "    <tr>\n",
       "      <th>31</th>\n",
       "      <td>NaN</td>\n",
       "      <td>CogSci</td>\n",
       "      <td>CogSci + CS</td>\n",
       "      <td>NaN</td>\n",
       "    </tr>\n",
       "    <tr>\n",
       "      <th>32</th>\n",
       "      <td>NaN</td>\n",
       "      <td>Stats + CogSci</td>\n",
       "      <td>CogSci + Psych</td>\n",
       "      <td>NaN</td>\n",
       "    </tr>\n",
       "    <tr>\n",
       "      <th>33</th>\n",
       "      <td>NaN</td>\n",
       "      <td>Psych + CogSci</td>\n",
       "      <td>CogSci + Environmental</td>\n",
       "      <td>NaN</td>\n",
       "    </tr>\n",
       "    <tr>\n",
       "      <th>34</th>\n",
       "      <td>NaN</td>\n",
       "      <td>Linguistics + CogSci</td>\n",
       "      <td>CogSci + Neuro</td>\n",
       "      <td>NaN</td>\n",
       "    </tr>\n",
       "    <tr>\n",
       "      <th>35</th>\n",
       "      <td>NaN</td>\n",
       "      <td>Neuroscience + CogSci</td>\n",
       "      <td>NaN</td>\n",
       "      <td>NaN</td>\n",
       "    </tr>\n",
       "    <tr>\n",
       "      <th>36</th>\n",
       "      <td>NaN</td>\n",
       "      <td>Psych + CogSci</td>\n",
       "      <td>NaN</td>\n",
       "      <td>NaN</td>\n",
       "    </tr>\n",
       "  </tbody>\n",
       "</table>\n",
       "</div>"
      ],
      "text/plain": [
       "       Fall 2018                    Fall 2019                  Fall 2020  \\\n",
       "0         CogSci                           CS              CogSci + Math   \n",
       "1             CS                   Stats + CS         CogSci + Math + CS   \n",
       "2    CogSci + CS                  CS + CogSci                 Stats + CS   \n",
       "3     Psychology        Neuroscience + CogSci        CogSci + Stats + CS   \n",
       "4        Biology                  CS + CogSci             CogSci + Neuro   \n",
       "5   Neuroscience                  CS + CogSci      CogSci + Math + Stats   \n",
       "6    CogSci + CS         Linguistics + CogSci        CogSci + Philosophy   \n",
       "7             CS        Neuroscience + CogSci             CogSci + Stats   \n",
       "8             CS                  CS + CogSci                CogSci + CS   \n",
       "9     Psychology               Psych + CogSci             CogSci + Psych   \n",
       "10    Philosophy                        Psych                CogSci + CS   \n",
       "11   Linguistics         CogSci + Linguistics                     CogSci   \n",
       "12           NaN                       CogSci              CogSci + Film   \n",
       "13           NaN               Psych + CogSci             CogSci + Stats   \n",
       "14           NaN               Psych + CogSci             CogSci + Psych   \n",
       "15           NaN                       CogSci             CogSci + Stats   \n",
       "16           NaN               Psych + CogSci             CogSci + Stats   \n",
       "17           NaN                  CS + CogSci                CogSci + CS   \n",
       "18           NaN                  CS + CogSci                CogSci + CS   \n",
       "19           NaN                       CogSci             CogSci + Psych   \n",
       "20           NaN                  CS + CogSci             CogSci + Stats   \n",
       "21           NaN                  Engineering  CogSci + Lin + Philosophy   \n",
       "22           NaN  CogSci + Biological Physics        CogSci + Philosophy   \n",
       "23           NaN                       CogSci        CogSci + Stats + CS   \n",
       "24           NaN                  CS + CogSci                     CogSci   \n",
       "25           NaN               Stats + CogSci      CogSci + Math + Stats   \n",
       "26           NaN            CogSci + Genetics        CogSci + Stats + CS   \n",
       "27           NaN                  CS + CogSci   CogSci + Psych + History   \n",
       "28           NaN                       CogSci             CogSci + Neuro   \n",
       "29           NaN        Neuroscience + CogSci        CogSci + Stats + CS   \n",
       "30           NaN                       CogSci             CogSci + Psych   \n",
       "31           NaN                       CogSci                CogSci + CS   \n",
       "32           NaN               Stats + CogSci             CogSci + Psych   \n",
       "33           NaN              Psych + CogSci      CogSci + Environmental   \n",
       "34           NaN         Linguistics + CogSci             CogSci + Neuro   \n",
       "35           NaN        Neuroscience + CogSci                        NaN   \n",
       "36           NaN               Psych + CogSci                        NaN   \n",
       "\n",
       "     Fall 2021  \n",
       "0          NaN  \n",
       "1          NaN  \n",
       "2          NaN  \n",
       "3          NaN  \n",
       "4          NaN  \n",
       "5          NaN  \n",
       "6          NaN  \n",
       "7          NaN  \n",
       "8          NaN  \n",
       "9          NaN  \n",
       "10         NaN  \n",
       "11         NaN  \n",
       "12         NaN  \n",
       "13         NaN  \n",
       "14         NaN  \n",
       "15         NaN  \n",
       "16         NaN  \n",
       "17         NaN  \n",
       "18         NaN  \n",
       "19         NaN  \n",
       "20         NaN  \n",
       "21         NaN  \n",
       "22         NaN  \n",
       "23         NaN  \n",
       "24         NaN  \n",
       "25         NaN  \n",
       "26         NaN  \n",
       "27         NaN  \n",
       "28         NaN  \n",
       "29         NaN  \n",
       "30         NaN  \n",
       "31         NaN  \n",
       "32         NaN  \n",
       "33         NaN  \n",
       "34         NaN  \n",
       "35         NaN  \n",
       "36         NaN  "
      ]
     },
     "execution_count": 5,
     "metadata": {},
     "output_type": "execute_result"
    }
   ],
   "source": [
    "df"
   ]
  },
  {
   "cell_type": "markdown",
   "metadata": {},
   "source": [
    "Get a column from the data frame and turn it into a list for manipulability."
   ]
  },
  {
   "cell_type": "code",
   "execution_count": 7,
   "metadata": {},
   "outputs": [
    {
     "name": "stdout",
     "output_type": "stream",
     "text": [
      "['CS', 'Stats + CS', 'CS + CogSci', 'Neuroscience + CogSci', 'CS + CogSci', 'CS + CogSci', 'Linguistics + CogSci', 'Neuroscience + CogSci', 'CS + CogSci', 'Psych + CogSci', 'Psych', 'CogSci + Linguistics', 'CogSci', 'Psych + CogSci', 'Psych + CogSci', 'CogSci', 'Psych + CogSci', 'CS + CogSci', 'CS + CogSci', 'CogSci', 'CS + CogSci', 'Engineering', 'CogSci + Biological Physics', 'CogSci', 'CS + CogSci', 'Stats + CogSci', 'CogSci + Genetics', 'CS + CogSci', 'CogSci', 'Neuroscience + CogSci', 'CogSci', 'CogSci', 'Stats + CogSci', 'Psych + CogSci ', 'Linguistics + CogSci', 'Neuroscience + CogSci', 'Psych + CogSci']\n"
     ]
    }
   ],
   "source": [
    "majors = list(df['Fall 2019'])\n",
    "print(majors)"
   ]
  },
  {
   "cell_type": "markdown",
   "metadata": {},
   "source": [
    "Get the list/set of unique majors."
   ]
  },
  {
   "cell_type": "code",
   "execution_count": 8,
   "metadata": {},
   "outputs": [
    {
     "name": "stdout",
     "output_type": "stream",
     "text": [
      "['CogSci + Biological Physics', 'Engineering', 'CS', 'Psych', 'Psych + CogSci ', 'Stats + CogSci', 'Stats + CS', 'Linguistics + CogSci', 'Psych + CogSci', 'CogSci + Linguistics', 'CogSci', 'CogSci + Genetics', 'Neuroscience + CogSci', 'CS + CogSci']\n"
     ]
    }
   ],
   "source": [
    "unique_majors = list(set(majors))\n",
    "print(unique_majors)"
   ]
  },
  {
   "cell_type": "markdown",
   "metadata": {},
   "source": [
    "Get the count of each unique major."
   ]
  },
  {
   "cell_type": "code",
   "execution_count": 9,
   "metadata": {},
   "outputs": [
    {
     "name": "stdout",
     "output_type": "stream",
     "text": [
      "[1, 1, 1, 1, 1, 2, 1, 2, 5, 1, 7, 1, 4, 9]\n"
     ]
    }
   ],
   "source": [
    "counts = []\n",
    "for i in range(0,len(unique_majors)):\n",
    "    counts.append(majors.count(unique_majors[i]))\n",
    "print(counts)"
   ]
  },
  {
   "cell_type": "markdown",
   "metadata": {},
   "source": [
    "Visualize the majors and counts in a summary pie chart."
   ]
  },
  {
   "cell_type": "code",
   "execution_count": 10,
   "metadata": {},
   "outputs": [
    {
     "data": {
      "image/png": "[encoded data removed]",
      "text/plain": [
       "<Figure size 432x288 with 1 Axes>"
      ]
     },
     "metadata": {},
     "output_type": "display_data"
    }
   ],
   "source": [
    "plt.pie(counts, labels=unique_majors, autopct='%1.1f%%')\n",
    "plt.show()"
   ]
  },
  {
   "cell_type": "markdown",
   "metadata": {
    "collapsed": true
   },
   "source": [
    "**Q:** Is there any other way in which you can visualize the (categorical) data?"
   ]
  },
  {
   "cell_type": "markdown",
   "metadata": {},
   "source": [
    "**A:** Write your answer here."
   ]
  },
  {
   "cell_type": "code",
   "execution_count": null,
   "metadata": {},
   "outputs": [],
   "source": []
  }
 ],
 "metadata": {
  "anaconda-cloud": {},
  "kernelspec": {
   "display_name": "Python 3 (ipykernel)",
   "language": "python",
   "name": "python3"
  },
  "language_info": {
   "codemirror_mode": {
    "name": "ipython",
    "version": 3
   },
   "file_extension": ".py",
   "mimetype": "text/x-python",
   "name": "python",
   "nbconvert_exporter": "python",
   "pygments_lexer": "ipython3",
   "version": "3.9.6"
  }
 },
 "nbformat": 4,
 "nbformat_minor": 1
}
